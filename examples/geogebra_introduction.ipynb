{
 "metadata": {
  "name": "",
  "signature": "sha256:bf17649ee9c286067be596a73d4e815cc31ed50d999daeb49df39edfd35742a1"
 },
 "nbformat": 3,
 "nbformat_minor": 0,
 "worksheets": [
  {
   "cells": [
    {
     "cell_type": "heading",
     "level": 3,
     "metadata": {},
     "source": [
      "Embedding GeoGebra files in IPython notebook"
     ]
    },
    {
     "cell_type": "markdown",
     "metadata": {},
     "source": [
      "The following notebook is inspired by [this ipython-asymptote notebook](http://nbviewer.ipython.org/github/azjps/ipython-asymptote/blob/master/examples/asymptote_magic_examples.ipynb)."
     ]
    },
    {
     "cell_type": "markdown",
     "metadata": {},
     "source": [
      "GeoGebra is an open source geometry software."
     ]
    },
    {
     "cell_type": "markdown",
     "metadata": {},
     "source": [
      "This page is a IPython notebook, which is essentially a python shell with a HTML-based UI backend. Instructions for downloading and installing the IPython notebook are located [here](http://ipython.org/install.html). Notebooks offer a large array of features, such as being able to run commands and display output for programming languages outside of python, and makes developing scripts incrementally and saving intermediate output very easy. Since we can execute arbitrary HTML and JavaScript code in an IPython notebook, we have the capability to embed GeoGebra applets!"
     ]
    },
    {
     "cell_type": "markdown",
     "metadata": {},
     "source": [
      "A given code cell can be run with the keys `<Shift>`+`<Enter>` or the $\\blacktriangleright$ button. Commands entered into a IPython cell starting with percent signs ('%') indicate to IPython to use a [IPython magic](http://nbviewer.ipython.org/github/ipython/ipython/blob/1.x/examples/notebooks/Cell%20Magics.ipynb). The GeoGebra IPython magic is a  IPython magic which can display Java and (eventually) HTML5 GeoGebra applets."
     ]
    },
    {
     "cell_type": "code",
     "collapsed": false,
     "input": [
      "%install_ext ../geogebra_magic.py"
     ],
     "language": "python",
     "metadata": {},
     "outputs": [
      {
       "output_type": "stream",
       "stream": "stdout",
       "text": [
        "Installed geogebra_magic.py. To use it, type:\n",
        "  %load_ext geogebra_magic\n"
       ]
      }
     ],
     "prompt_number": 1
    },
    {
     "cell_type": "code",
     "collapsed": false,
     "input": [
      "%reload_ext geogebra_magic"
     ],
     "language": "python",
     "metadata": {},
     "outputs": [],
     "prompt_number": 2
    },
    {
     "cell_type": "code",
     "collapsed": false,
     "input": [
      "%ggb -w 650 -h 400 star.ggb"
     ],
     "language": "python",
     "metadata": {},
     "outputs": [
      {
       "html": [
        "\n",
        "<applet code=\"geogebra.GeoGebraApplet\" id=\"ggb_applet1\"\n",
        "codebase=\"http://www.geogebra.org/webstart/4.2/unsigned/\"\n",
        "archive=\"http://www.geogebra.org/webstart/4.2/geogebra.jar\"\n",
        "width=\"650\" height=\"400\">\n",
        "<param name=\"filename\" value=\"star.ggb\"/>\n",
        "<param name=\"framePossible\" value=\"false\" />\n",
        "<param name=\"image\" value=\"http://www.geogebra.org/webstart/loading.gif\" />\n",
        "<param name=\"boxborder\" value=\"false\" />\n",
        "<param name=\"centerimage\" value=\"true\" />\n",
        "<param name=\"java_arguments\" value=\"-Xmx512m -Djnlp.packEnabled=true\" />\n",
        "<param name=\"framePossible\" value=\"false\" />\n",
        "<param name=\"showResetIcon\" value=\"true\" />\n",
        "<param name=\"showAnimationButton\" value=\"true\" />\n",
        "<param name=\"enableRightClick\" value=\"true\" />\n",
        "<param name=\"errorDialogsActive\" value=\"true\" />\n",
        "<param name=\"enableLabelDrags\" value=\"true\" />\n",
        "<param name=\"showMenuBar\" value=\"false\" />\n",
        "<param name=\"showToolBar\" value=\"false\" />\n",
        "<param name=\"showToolBarHelp\" value=\"true\" />\n",
        "<param name=\"showAlgebraInput\" value=\"true\" />\n",
        "<param name=\"allowRescaling\" value=\"true\" />\n",
        "Sorry, the GeoGebra Applet could not be started. Please make sure that\n",
        "Java 1.4.2 (or later) is installed and activated. (<a\n",
        "href=\"http://java.sun.com/getjava\">click here to install Java now</a>)\n",
        "</applet>\n"
       ],
       "metadata": {},
       "output_type": "pyout",
       "prompt_number": 3,
       "text": [
        "<IPython.core.display.HTML at 0x393fbe0>"
       ]
      }
     ],
     "prompt_number": 3
    },
    {
     "cell_type": "code",
     "collapsed": false,
     "input": [
      "%ggb -w 650 -h 400 noexist.ggb"
     ],
     "language": "python",
     "metadata": {},
     "outputs": [
      {
       "html": [
        "\n",
        "<applet code=\"geogebra.GeoGebraApplet\" id=\"ggb_applet2\"\n",
        "codebase=\"http://www.geogebra.org/webstart/4.2/unsigned/\"\n",
        "archive=\"http://www.geogebra.org/webstart/4.2/geogebra.jar\"\n",
        "width=\"650\" height=\"400\">\n",
        "<param name=\"filename\" value=\"noexist.ggb\"/>\n",
        "<param name=\"framePossible\" value=\"false\" />\n",
        "<param name=\"image\" value=\"http://www.geogebra.org/webstart/loading.gif\" />\n",
        "<param name=\"boxborder\" value=\"false\" />\n",
        "<param name=\"centerimage\" value=\"true\" />\n",
        "<param name=\"java_arguments\" value=\"-Xmx512m -Djnlp.packEnabled=true\" />\n",
        "<param name=\"framePossible\" value=\"false\" />\n",
        "<param name=\"showResetIcon\" value=\"true\" />\n",
        "<param name=\"showAnimationButton\" value=\"true\" />\n",
        "<param name=\"enableRightClick\" value=\"true\" />\n",
        "<param name=\"errorDialogsActive\" value=\"true\" />\n",
        "<param name=\"enableLabelDrags\" value=\"true\" />\n",
        "<param name=\"showMenuBar\" value=\"false\" />\n",
        "<param name=\"showToolBar\" value=\"false\" />\n",
        "<param name=\"showToolBarHelp\" value=\"true\" />\n",
        "<param name=\"showAlgebraInput\" value=\"true\" />\n",
        "<param name=\"allowRescaling\" value=\"true\" />\n",
        "Sorry, the GeoGebra Applet could not be started. Please make sure that\n",
        "Java 1.4.2 (or later) is installed and activated. (<a\n",
        "href=\"http://java.sun.com/getjava\">click here to install Java now</a>)\n",
        "</applet>\n"
       ],
       "metadata": {},
       "output_type": "pyout",
       "prompt_number": 4,
       "text": [
        "<IPython.core.display.HTML at 0x393fe10>"
       ]
      }
     ],
     "prompt_number": 4
    },
    {
     "cell_type": "code",
     "collapsed": false,
     "input": [
      "from IPython.display import HTML, Javascript"
     ],
     "language": "python",
     "metadata": {},
     "outputs": [],
     "prompt_number": 5
    },
    {
     "cell_type": "code",
     "collapsed": false,
     "input": [
      "Javascript(\"\"\"\n",
      "document.getElementById(\"ggb_applet2\").evalCommand(\"Circle[(0,0), 1]\")\n",
      "\"\"\")"
     ],
     "language": "python",
     "metadata": {},
     "outputs": [
      {
       "javascript": [
        "\n",
        "document.getElementById(\"ggb_applet2\").evalCommand(\"Circle[(0,0), 1]\")\n"
       ],
       "metadata": {},
       "output_type": "pyout",
       "prompt_number": 6,
       "text": [
        "<IPython.core.display.Javascript at 0x36c29e8>"
       ]
      }
     ],
     "prompt_number": 6
    },
    {
     "cell_type": "code",
     "collapsed": false,
     "input": [
      "\"\"\"\n",
      "function on_applet_load() {\n",
      "  document.getElementById(\"ggb_applet2\").evalCommand(\"Circle[(0,0),1]\");\n",
      "}\n",
      "console.log(document.getElementById(\"ggb_applet2\").status)\n",
      "document.getElementById(\"ggb_applet2\").onLoad(on_applet_load)\n",
      "\"\"\""
     ],
     "language": "python",
     "metadata": {},
     "outputs": [
      {
       "metadata": {},
       "output_type": "pyout",
       "prompt_number": 7,
       "text": [
        "'\\nfunction on_applet_load() {\\n  document.getElementById(\"ggb_applet2\").evalCommand(\"Circle[(0,0),1]\");\\n}\\nconsole.log(document.getElementById(\"ggb_applet2\").status)\\ndocument.getElementById(\"ggb_applet2\").onLoad(on_applet_load)\\n'"
       ]
      }
     ],
     "prompt_number": 7
    },
    {
     "cell_type": "code",
     "collapsed": false,
     "input": [],
     "language": "python",
     "metadata": {},
     "outputs": []
    }
   ],
   "metadata": {}
  }
 ]
}