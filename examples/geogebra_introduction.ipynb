{
 "cells": [
  {
   "cell_type": "markdown",
   "metadata": {
    "run_control": {
     "frozen": false,
     "read_only": false
    }
   },
   "source": [
    "### Embedding GeoGebra files in IPython notebook"
   ]
  },
  {
   "cell_type": "markdown",
   "metadata": {
    "run_control": {
     "frozen": false,
     "read_only": false
    }
   },
   "source": [
    "The following notebook is inspired by [this ipython-asymptote notebook](http://nbviewer.ipython.org/github/azjps/ipython-asymptote/blob/master/examples/asymptote_magic_examples.ipynb)."
   ]
  },
  {
   "cell_type": "markdown",
   "metadata": {
    "run_control": {
     "frozen": false,
     "read_only": false
    }
   },
   "source": [
    "GeoGebra is an open source geometry software."
   ]
  },
  {
   "cell_type": "markdown",
   "metadata": {
    "run_control": {
     "frozen": false,
     "read_only": false
    }
   },
   "source": [
    "This page is a IPython notebook, which is essentially a python shell with a HTML-based UI backend. Instructions for downloading and installing the IPython notebook are located [here](http://ipython.org/install.html). Notebooks offer a large array of features, such as being able to run commands and display output for programming languages outside of python, and makes developing scripts incrementally and saving intermediate output very easy. Since we can execute arbitrary HTML and JavaScript code in an IPython notebook, we have the capability to embed GeoGebra applets!"
   ]
  },
  {
   "cell_type": "markdown",
   "metadata": {
    "run_control": {
     "frozen": false,
     "read_only": false
    }
   },
   "source": [
    "A given code cell can be run with the keys `<Shift>`+`<Enter>` or the $\\blacktriangleright$ button. Commands entered into a IPython cell starting with percent signs ('%') indicate to IPython to use a [IPython magic](http://nbviewer.ipython.org/github/ipython/ipython/blob/1.x/examples/notebooks/Cell%20Magics.ipynb). The GeoGebra IPython magic is a  IPython magic which can display Java and (eventually) HTML5 GeoGebra applets."
   ]
  },
  {
   "cell_type": "code",
   "execution_count": 1,
   "metadata": {
    "ExecuteTime": {
     "end_time": "2018-04-13T02:27:54.826241",
     "start_time": "2018-04-13T02:27:54.719499"
    },
    "collapsed": false,
    "run_control": {
     "frozen": false,
     "read_only": false
    }
   },
   "outputs": [],
   "source": [
    "import os\n",
    "import sys  \n",
    "\n",
    "try:\n",
    "  import pyggb.geogebra_magic\n",
    "except ImportError:\n",
    "  # Assuming CWD is examples/\n",
    "  assert os.path.isfile('../pyggb/geogebra_magic.py')\n",
    "  sys.path.append('../')\n",
    "  import pyggb.geogebra_magic"
   ]
  },
  {
   "cell_type": "code",
   "execution_count": 2,
   "metadata": {
    "ExecuteTime": {
     "end_time": "2018-04-13T02:27:54.848410",
     "start_time": "2018-04-13T02:27:54.827195"
    },
    "collapsed": false,
    "run_control": {
     "frozen": false,
     "read_only": false
    }
   },
   "outputs": [],
   "source": [
    "%reload_ext pyggb.geogebra_magic"
   ]
  },
  {
   "cell_type": "code",
   "execution_count": 3,
   "metadata": {
    "ExecuteTime": {
     "end_time": "2018-04-13T02:27:54.861536",
     "start_time": "2018-04-13T02:27:54.849312"
    },
    "collapsed": false,
    "run_control": {
     "frozen": false,
     "read_only": false
    }
   },
   "outputs": [],
   "source": [
    "%ggb?"
   ]
  },
  {
   "cell_type": "code",
   "execution_count": 4,
   "metadata": {
    "ExecuteTime": {
     "end_time": "2018-04-13T02:27:54.878458",
     "start_time": "2018-04-13T02:27:54.862490"
    },
    "collapsed": false,
    "run_control": {
     "frozen": false,
     "read_only": false
    }
   },
   "outputs": [
    {
     "data": {
      "text/html": [
       "<applet archive=\"http://www.geogebra.org/webstart/4.2/geogebra.jar\" code=\"geogebra.GeoGebraApplet\" codebase=\"http://www.geogebra.org/webstart/4.2/unsigned/\" height=\"450\" id=\"ggb_applet_1\" width=\"650\">Sorry, the GeoGebra Applet could not be started.\n",
       "Please make sure that Java 1.4.2 (or later) is installed and activated.\n",
       "(&lt;a href=\"http://java.sun.com/getjava\"&gt;Click here to install Java now&lt;/a&gt;)<param name=\"showToolBar\" value=\"true\" />\n",
       "  <param name=\"showResetIcon\" value=\"true\" />\n",
       "  <param name=\"filename\" value=\"star.ggb\" />\n",
       "  <param name=\"java_arguments\" value=\"-Xmx512m -Djnlp.packEnabled=true\" />\n",
       "  <param name=\"image\" value=\"http://www.geogebra.org/webstart/loading.gif\" />\n",
       "</applet>\n"
      ],
      "text/plain": [
       "<IPython.core.display.HTML object>"
      ]
     },
     "execution_count": 4,
     "metadata": {},
     "output_type": "execute_result"
    }
   ],
   "source": [
    "%ggb --width 650 --height 450 --showToolBar 1 --showResetIcon 1 star.ggb"
   ]
  },
  {
   "cell_type": "code",
   "execution_count": 5,
   "metadata": {
    "ExecuteTime": {
     "end_time": "2018-04-13T02:27:54.885342",
     "start_time": "2018-04-13T02:27:54.879333"
    },
    "collapsed": false,
    "run_control": {
     "frozen": false,
     "read_only": false
    }
   },
   "outputs": [
    {
     "data": {
      "text/html": [
       "<applet archive=\"http://www.geogebra.org/webstart/4.2/geogebra.jar\" code=\"geogebra.GeoGebraApplet\" codebase=\"http://www.geogebra.org/webstart/4.2/unsigned/\" height=\"450\" id=\"ggb_applet_2\" width=\"650\">Sorry, the GeoGebra Applet could not be started.\n",
       "Please make sure that Java 1.4.2 (or later) is installed and activated.\n",
       "(&lt;a href=\"http://java.sun.com/getjava\"&gt;Click here to install Java now&lt;/a&gt;)<param name=\"filename\" value=\"noexist.ggb\" />\n",
       "  <param name=\"java_arguments\" value=\"-Xmx512m -Djnlp.packEnabled=true\" />\n",
       "  <param name=\"image\" value=\"http://www.geogebra.org/webstart/loading.gif\" />\n",
       "</applet>\n"
      ],
      "text/plain": [
       "<IPython.core.display.HTML object>"
      ]
     },
     "execution_count": 5,
     "metadata": {},
     "output_type": "execute_result"
    }
   ],
   "source": [
    "%ggb --width 650 --height 450 noexist.ggb"
   ]
  },
  {
   "cell_type": "code",
   "execution_count": 6,
   "metadata": {
    "ExecuteTime": {
     "end_time": "2018-04-13T02:27:54.894728",
     "start_time": "2018-04-13T02:27:54.886125"
    },
    "collapsed": false,
    "run_control": {
     "frozen": false,
     "read_only": false
    }
   },
   "outputs": [],
   "source": [
    "from IPython.display import HTML, Javascript"
   ]
  },
  {
   "cell_type": "code",
   "execution_count": 7,
   "metadata": {
    "ExecuteTime": {
     "end_time": "2018-04-13T02:27:54.906764",
     "start_time": "2018-04-13T02:27:54.895538"
    },
    "collapsed": false,
    "run_control": {
     "frozen": false,
     "read_only": false
    }
   },
   "outputs": [
    {
     "data": {
      "application/javascript": [
       "\n",
       "document.getElementById(\"ggb_applet_2\").evalCommand(\"Circle[(0,0), 1]\")\n"
      ],
      "text/plain": [
       "<IPython.core.display.Javascript object>"
      ]
     },
     "execution_count": 7,
     "metadata": {},
     "output_type": "execute_result"
    }
   ],
   "source": [
    "Javascript(\"\"\"\n",
    "document.getElementById(\"ggb_applet_2\").evalCommand(\"Circle[(0,0), 1]\")\n",
    "\"\"\")"
   ]
  },
  {
   "cell_type": "code",
   "execution_count": 8,
   "metadata": {
    "ExecuteTime": {
     "end_time": "2018-04-13T02:27:54.914320",
     "start_time": "2018-04-13T02:27:54.907578"
    },
    "collapsed": false,
    "run_control": {
     "frozen": false,
     "read_only": false
    }
   },
   "outputs": [
    {
     "data": {
      "text/plain": [
       "'\\nfunction on_applet_load() {\\n  document.getElementById(\"ggb_applet_2\").evalCommand(\"Circle[(0,0),1]\");\\n}\\nconsole.log(document.getElementById(\"ggb_applet_2\").status)\\ndocument.getElementById(\"ggb_applet_2\").onLoad(on_applet_load)\\n'"
      ]
     },
     "execution_count": 8,
     "metadata": {},
     "output_type": "execute_result"
    }
   ],
   "source": [
    "\"\"\"\n",
    "function on_applet_load() {\n",
    "  document.getElementById(\"ggb_applet_2\").evalCommand(\"Circle[(0,0),1]\");\n",
    "}\n",
    "console.log(document.getElementById(\"ggb_applet_2\").status)\n",
    "document.getElementById(\"ggb_applet_2\").onLoad(on_applet_load)\n",
    "\"\"\""
   ]
  },
  {
   "cell_type": "code",
   "execution_count": null,
   "metadata": {
    "collapsed": false,
    "run_control": {
     "frozen": false,
     "read_only": false
    }
   },
   "outputs": [],
   "source": []
  }
 ],
 "metadata": {
  "kernelspec": {
   "display_name": "Python 2",
   "language": "python",
   "name": "python2"
  },
  "language_info": {
   "codemirror_mode": {
    "name": "ipython",
    "version": 2
   },
   "file_extension": ".py",
   "mimetype": "text/x-python",
   "name": "python",
   "nbconvert_exporter": "python",
   "pygments_lexer": "ipython2",
   "version": "2.7.6"
  },
  "toc": {
   "nav_menu": {
    "height": "45px",
    "width": "252px"
   },
   "navigate_menu": true,
   "number_sections": true,
   "sideBar": true,
   "threshold": 4,
   "toc_cell": false,
   "toc_section_display": "block",
   "toc_window_display": false
  }
 },
 "nbformat": 4,
 "nbformat_minor": 0
}
