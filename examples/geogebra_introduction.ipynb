{
 "metadata": {
  "name": "",
  "signature": "sha256:9bd93ca8fb87e2440bc649552be9293f6d25a4a743cd5ecbf6befc80c6380cdf"
 },
 "nbformat": 3,
 "nbformat_minor": 0,
 "worksheets": [
  {
   "cells": [
    {
     "cell_type": "heading",
     "level": 3,
     "metadata": {},
     "source": [
      "Embedding GeoGebra files in IPython notebook"
     ]
    },
    {
     "cell_type": "code",
     "collapsed": false,
     "input": [
      "%install_ext ../geogebra_magic.py"
     ],
     "language": "python",
     "metadata": {},
     "outputs": [
      {
       "output_type": "stream",
       "stream": "stdout",
       "text": [
        "Installed geogebra_magic.py. To use it, type:\n",
        "  %load_ext geogebra_magic\n"
       ]
      }
     ],
     "prompt_number": 1
    },
    {
     "cell_type": "code",
     "collapsed": false,
     "input": [
      "%reload_ext geogebra_magic"
     ],
     "language": "python",
     "metadata": {},
     "outputs": [],
     "prompt_number": 2
    },
    {
     "cell_type": "code",
     "collapsed": false,
     "input": [
      "%ggb -w 650 -h 400 star.ggb"
     ],
     "language": "python",
     "metadata": {},
     "outputs": [
      {
       "html": [
        "\n",
        "<applet code=\"geogebra.GeoGebraApplet\"\n",
        "codebase=\"http://www.geogebra.org/webstart/4.2/unsigned/\"\n",
        "archive=\"http://www.geogebra.org/webstart/4.2/geogebra.jar\"\n",
        "width=\"650\" height=\"400\">\n",
        "<param name=\"filename\" value=\"star.ggb\"/>\n",
        "<param name=\"framePossible\" value=\"false\" />\n",
        "<param name=\"image\" value=\"http://www.geogebra.org/webstart/loading.gif\" />\n",
        "<param name=\"boxborder\" value=\"false\" />\n",
        "<param name=\"centerimage\" value=\"true\" />\n",
        "<param name=\"java_arguments\" value=\"-Xmx512m -Djnlp.packEnabled=true\" />\n",
        "<param name=\"framePossible\" value=\"false\" />\n",
        "<param name=\"showResetIcon\" value=\"true\" />\n",
        "<param name=\"showAnimationButton\" value=\"true\" />\n",
        "<param name=\"enableRightClick\" value=\"true\" />\n",
        "<param name=\"errorDialogsActive\" value=\"true\" />\n",
        "<param name=\"enableLabelDrags\" value=\"true\" />\n",
        "<param name=\"showMenuBar\" value=\"false\" />\n",
        "<param name=\"showToolBar\" value=\"false\" />\n",
        "<param name=\"showToolBarHelp\" value=\"true\" />\n",
        "<param name=\"showAlgebraInput\" value=\"true\" />\n",
        "<param name=\"allowRescaling\" value=\"true\" />\n",
        "Sorry, the GeoGebra Applet could not be started. Please make sure that\n",
        "Java 1.4.2 (or later) is installed and activated. (<a\n",
        "href=\"http://java.sun.com/getjava\">click here to install Java now</a>)\n",
        "</applet>\n"
       ],
       "metadata": {},
       "output_type": "pyout",
       "prompt_number": 3,
       "text": [
        "<IPython.core.display.HTML at 0x38d8518>"
       ]
      }
     ],
     "prompt_number": 3
    },
    {
     "cell_type": "code",
     "collapsed": false,
     "input": [],
     "language": "python",
     "metadata": {},
     "outputs": []
    }
   ],
   "metadata": {}
  }
 ]
}